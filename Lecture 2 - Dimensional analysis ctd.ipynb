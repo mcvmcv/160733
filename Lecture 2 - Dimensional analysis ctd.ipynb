{
 "cells": [
  {
   "cell_type": "markdown",
   "metadata": {},
   "source": [
    "## Example: Heat transfer\n",
    "\n",
    "You may have in a previous course solved the heat equation. Let's see what headway we can make on this problem using dimensional analysis\n",
    "\n",
    "At time $t = 0$, heat energy $e$ concentrated at a point in space diffuses outward into a region with temperature 0. Let $r$ be the radial distance from the source, and let $t$ be time. We want to find the temperature $u$ as a function of $r$ and $t$. Like our previous example, we first need to figure out which quantities we expect to appear in our formula\n",
    "* $t$, $r$, $e$\n",
    "* heat capacity $c$ (energy per degree per unit volume)\n",
    "* thermal diffusivity $k$ (length-squared per time)\n",
    "So we hypothesise a physical law of the form $f(t, r, u, e, k, c) = 0$.\n",
    "\n",
    "As in our previous example, the next step is to find a minimal set of dimensionless quantities. So, let's do this. We don't always have to go down to the fundamental quantities, we can instead use secondary ones if we want to, for convenience. We will use $[T], [L], [\\Theta], [E]$:\n",
    "\n",
    "\\begin{align}\n",
    "    [t] &= [T], & [r] &= [L], & [u] &= [\\Theta], \\\\\n",
    "    [e] &= [E], & [k] &= [L]^2[T]^{-1}, & [c] &= [E][\\Theta]^{-1}[L]^{-3}\n",
    "\\end{align}\n",
    "\n",
    "So we look at $\\pi = t^{x_1} r^{x_2} u^{x_3} e^{x_4} k^{x_5} c^{x_6}$, and find the dimension matrix $A$ to be (with rows corresponding to $[T], [L], [\\Theta], [E]$\n",
    "\n",
    "\\begin{equation*}\n",
    "    \\begin{bmatrix}\n",
    "        1 & 0 & 0 & 0 & -1 &  0 \\\\\n",
    "        0 & 1 & 0 & 0 &  2 & -3 \\\\\n",
    "        0 & 0 & 1 & 0 &  0 & -1 \\\\\n",
    "        0 & 0 & 0 & 1 &  0 &  1\n",
    "    \\end{bmatrix}\n",
    "\\end{equation*}\n",
    "which is conveniently in RREF, thanks to our choice of dimensions. If we'd had mass instead of energy it would have been messier, but still worked. So following the method above, we have two dimensionless quantities\n",
    "\\begin{align}\n",
    "    \\pi_1^* &= \\frac{tk}{r^2} & \\pi_2^* &= \\frac{ucr^3}{e}\n",
    "\\end{align}\n",
    "At this point it's sometimes worthwhile manipulating these a little to get ones you like better. I'm going to take the reciprocal of $\\pi_1$ and square root it.\n",
    "\\begin{equation}\n",
    "    \\pi_1 = \\frac{r}{\\sqrt{kt}}\n",
    "\\end{equation}\n",
    "I'd also like to lose the dependence on $r$ from $\\pi_2^*$, so I'll form a new constant by forming $\\displaystyle \\pi_2 =  \\frac{\\pi_2^*}{\\pi_1^3} = \\frac{uc}{e} (kt)^{\\frac{3}{2}}$. Our posited physical law should then by the Pi Theorem be equivalent to a physical law of the form\n",
    "\\begin{equation}\n",
    "    F(\\pi_1, \\pi_2) = 0\n",
    "\\end{equation}\n",
    "We can solve this for $\\pi_2$ to give\n",
    "\\begin{equation}\n",
    "    \\pi_2 = g(\\pi_1)\n",
    "\\end{equation}\n",
    "for some function $g$. Substituting everything in\n",
    "\\begin{equation}\n",
    "    u = \\frac{e}{c}(kt)^{-\\frac{3}{2}} g\\left(\\frac{r}{\\sqrt{kt}}\\right)\n",
    "\\end{equation}\n",
    "This is a fairly impressively specific form that we've derived just from intuition about the quantities involved. If you solve the heat equation IVP, this is the kind of solution that you see. So for example, near the origin, temperature falls off like $t^{-3/2}$.\n",
    "    \n",
    "        "
   ]
  }
 ],
 "metadata": {
  "kernelspec": {
   "display_name": "Python 2",
   "language": "python",
   "name": "python2"
  },
  "language_info": {
   "codemirror_mode": {
    "name": "ipython",
    "version": 2
   },
   "file_extension": ".py",
   "mimetype": "text/x-python",
   "name": "python",
   "nbconvert_exporter": "python",
   "pygments_lexer": "ipython2",
   "version": "2.7.10"
  }
 },
 "nbformat": 4,
 "nbformat_minor": 0
}
