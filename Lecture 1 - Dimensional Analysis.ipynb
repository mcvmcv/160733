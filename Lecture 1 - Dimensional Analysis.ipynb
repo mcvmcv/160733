{
 "cells": [
  {
   "cell_type": "code",
   "execution_count": 1,
   "metadata": {
    "collapsed": true
   },
   "outputs": [],
   "source": [
    "from __future__ import division\n",
    "import numpy as np\n",
    "import matplotlib.pyplot as plt\n",
    "%matplotlib inline"
   ]
  },
  {
   "cell_type": "markdown",
   "metadata": {},
   "source": [
    "# Dimensional Analysis\n",
    "\n",
    "The material in this lecture is based on the material from Chapter 1 of *Applied Mathematics, 4th edition* by David Logan, and Chapter 2 of *Practical Applied Mathematics*, by Sam Howison.\n",
    "\n",
    "## Dimensions and units\n",
    "Essentially, dimensional analysis of an equation modelling a physical process is that all terms separated by $+$, $-$, and $=$ must have the same physical dimensions. You can't add $3\\text{cm}$ to $1\\text{kJ}$ and expect your answer to make sense.\n",
    "\n",
    "We need to fix some notation for the dimensions of *primary quantities* as follows:\n",
    "* mass $[M]$\n",
    "* length $[L]$\n",
    "* time $[T]$\n",
    "* electric current $[I]$\n",
    "* temperature $[\\Theta]$\n",
    "\n",
    "The SI units for these quantities are $\\text{kg}$, $\\text{m}$, $\\text{s}$, $\\text{A}$ (Ampere), $\\text{K}$ (Kelvin), respectively. This isn't the only system, but it's by far the most used. Another metric-based system is *cgs* (centimetres/grams/seconds).\n",
    "\n",
    "There are others, (mole and candela), but we only need these ones. Given these, the dimensions of other *secondary quantities* can be derived from them:\n",
    "* force $F = \\text{mass} \\times \\text{acceleration}$, so $[F] = [M][L][T]^{-2}$, whose SI unit is the Newton $\\text{N}$,\n",
    "* pressure $P = \\text{force per unit area}$, so $[P] = [M][L]^{-1}[T]^{-2}$, whose SI unit is the Pascal $\\text{Pa}$,\n",
    "* energy $E = \\text{force} \\times \\text{distance}$, so $[E] = [M][L]^2[T]^{-2}$, whose SI unit is the Joule $\\text{J}$,\n",
    "* power $ = \\text{energy per unit time}$ with unit $\\text{Js}^{-1}$,\n",
    "\n",
    "*etc.*\n",
    "\n",
    "## Pi Theorem\n",
    "The main result in dimensional analysis is the so-called Pi Theorem. This theorem states that if there is a physical law relating $n$ dimensioned physical quantities $q_1, \\ldots, q_n$, then there is an equivalent physical law relating $k$ dimensionless quantities $\\pi_1, \\ldots, \\pi_k$, where $k \\le n$ is the number of independent dimensionless quantities that can be formed. We won't go into depth proving this, but we'll illustrate its use with a couple of examples.\n",
    "\n",
    "## Example: Computing the yield of an atomic explosion\n",
    "In such an explosion, a very large amount of energy $E$ is released in a very short time from what is effectively a single point. From the explosion centre a shock wave spreads rapidly outward, and the pressure behind it is far greater than the ambient air pressure.\n",
    "\n",
    "We could set up a differential equation model to capture this process, and if we could solve it, the end result would be an equation relating the key variables and parameters involved in the process. Let's think what those might be. \n",
    "* radius of blast wave front $r$,\n",
    "* time $t$,\n",
    "* initial air density $\\rho$,\n",
    "* energy released $E$.\n",
    "\n",
    "A solution to our equation could be written in the form $g(r, t, \\rho, E) = 0$. However, we are interested in seeing what we can find out by dimensional considerations alone. Let's first write down the dimensions of our quantities in terms of the dimensions of the *primary quantites* above.\n",
    "* $[t] = [T]$,\n",
    "* $[r] = [L]$,\n",
    "* $[\\rho] = [M][L]^{-3}$,\n",
    "* $[E] = [M][L]^2[T]^{-2}$\n",
    "\n",
    "We now want to find all possible dimensionless combinations of these. We look at *monomials* in the dimensioned quantities\n",
    "\\begin{equation}\n",
    "    \\pi = t^a r^b \\rho^c E^d\n",
    "\\end{equation}\n",
    "and try to find values of $a, b, c, d$ such that $\\pi$ is dimensionless. \n",
    "\\begin{equation}\n",
    "    [\\pi] = [T]^a [L]^b ([M][L]^{-3})^c ([M][L]^2[T]^{-2})^d = [M]^{c + d} [L]^{b - 3c + 2d} [T]^{a - 2d}\n",
    "\\end{equation}\n",
    "These dimensions must all cancel, so we have a homogeneous system\n",
    "\\begin{equation}\n",
    "    \\left\\{\n",
    "        \\begin{aligned}\n",
    "            c + d &= 0 \\\\\n",
    "            b - 3c + 2d &= 0 \\\\\n",
    "            a - 2d &= 0\n",
    "        \\end{aligned}\n",
    "    \\right.\n",
    "\\end{equation}\n",
    "We put it into matrix form\n",
    "\\begin{equation*}\n",
    "    \\begin{bmatrix}\n",
    "        0 & 0 & 1 & 1 \\\\\n",
    "        0 & 1 & -3 & 2 \\\\\n",
    "        1 & 0 & 0 & -2 \n",
    "    \\end{bmatrix}\n",
    "    \\begin{bmatrix}\n",
    "        a \\\\ b \\\\ c \\\\ d \n",
    "    \\end{bmatrix} \n",
    "    =\n",
    "    \\begin{bmatrix}\n",
    "        0 \\\\ 0 \\\\ 0\n",
    "    \\end{bmatrix}\n",
    "\\end{equation*}\n",
    "\n",
    "We can see that this system is of rank 3, and so there is a one-dimensional nullspace, spanned by $(a, b, c, d) = (2, -5, -1, 1)$. Subsituting back into our expression for $\\pi$, there is only one independent dimensionless quantity that can be formed,\n",
    "\\begin{equation}\n",
    "    \\pi = \\frac{Et^2}{r^5 \\rho}\n",
    "\\end{equation}\n",
    "Of course any power of this will still be dimensionless, so it's not the only possible form it might take.\n",
    "\n",
    "The Pi Theorem says that our physical law $g(r, t, \\rho, E) = 0$ is equivalent to a physical law in $\\pi$ alone\n",
    "\\begin{equation}\n",
    "    f\\left(\\frac{Et^2}{r^5 \\rho}\\right) = 0\n",
    "\\end{equation}\n",
    "It follows that $\\pi$ must be a constant\n",
    "\\begin{equation}\n",
    "    \\frac{Et^2}{r^5\\rho} = D.\n",
    "\\end{equation}\n",
    "        \n",
    "We can solve this for $r$, giving\n",
    "\\begin{equation}\n",
    "    r = C \\left(\\frac{Et^2}{\\rho}\\right)^{\\frac{1}{5}}\n",
    "\\end{equation}\n",
    "\n",
    "i.e. from dimensional reasoning alone, we have shown that $r$ depends on the two-fifths power of time. G.I. Taylor first used this argument in the 1940s to infer the energy yield of the first atomic explosions based only on timed photographs. Without utilising any physics other than dimensions, and intuition as to the quantities involved, it is remarkable that this solution can be found.\n",
    "\n",
    "### Computing yield for Trinity explosion\n",
    "\n",
    "The following data is form the Trinity explosion. The actual yield of the explosion is known to be approximately 21 kilotons (1 kiloton = 4.186e12 Joules). We show how the data is fitted below. Taylor showed that the constant $C$ can be taken to be 1 (don't worry too much about why), and we can use air density as the standard value $1.25 \\text{kg/m}^3$.\n",
    "\n",
    "First, we'll verify that the relationship between $r$ and $t^{2/5}$ is approximately linear by eyeballing it:"
   ]
  },
  {
   "cell_type": "code",
   "execution_count": 2,
   "metadata": {
    "collapsed": false
   },
   "outputs": [
    {
     "data": {
      "text/plain": [
       "<matplotlib.text.Text at 0xa32cef0>"
      ]
     },
     "execution_count": 2,
     "metadata": {},
     "output_type": "execute_result"
    },
    {
     "data": {
      "image/png": "[encoded data removed]",
      "text/plain": [
       "<matplotlib.figure.Figure at 0xa1b4588>"
      ]
     },
     "metadata": {},
     "output_type": "display_data"
    }
   ],
   "source": [
    "t_data = np.array([0.10, 0.52, 1.08, 1.5, 1.93, 4.07, 15.0, 34.0]) * 1e-3 # seconds\n",
    "r_data = np.array([11, 28.2, 38.9, 44.4, 48.7, 64.3, 106.5, 145]) # m\n",
    "\n",
    "plt.plot(t_data**0.4, r_data, 'ro')\n",
    "plt.xlabel('$t^{2/5}$')\n",
    "plt.ylabel('$r$')\n"
   ]
  },
  {
   "cell_type": "markdown",
   "metadata": {},
   "source": [
    "Now we'll fit a function of the form $r = at^{2/5}$ by least squares, and see how it looks:"
   ]
  },
  {
   "cell_type": "code",
   "execution_count": 5,
   "metadata": {
    "collapsed": false
   },
   "outputs": [
    {
     "name": "stdout",
     "output_type": "stream",
     "text": [
      "yield energy is 17.90 kilotons\n"
     ]
    },
    {
     "data": {
      "text/plain": [
       "<matplotlib.text.Text at 0xa4626a0>"
      ]
     },
     "execution_count": 5,
     "metadata": {},
     "output_type": "execute_result"
    },
    {
     "data": {
      "image/png": "[encoded data removed]",
      "text/plain": [
       "<matplotlib.figure.Figure at 0xa2a3a20>"
      ]
     },
     "metadata": {},
     "output_type": "display_data"
    },
    {
     "data": {
      "image/png": "[encoded data removed]",
      "text/plain": [
       "<matplotlib.figure.Figure at 0xb5cc5c0>"
      ]
     },
     "metadata": {},
     "output_type": "display_data"
    }
   ],
   "source": [
    "rho = 1.25\n",
    "\n",
    "kiloton_in_joules = 4.186e12\n",
    "\n",
    "# Form matrix for least squares\n",
    "A = np.array([t_data**0.4]).T\n",
    "x = np.linalg.lstsq(A, r_data)[0][0]\n",
    "E = x**5 * rho\n",
    "print \"yield energy is {:.2f} kilotons\".format(E / kiloton_in_joules)\n",
    "\n",
    "t = np.linspace(0, 40e-3, 200)\n",
    "\n",
    "plt.figure()\n",
    "plt.plot(t, (E*t**2 / rho)**0.2)\n",
    "plt.plot(t_data, r_data, 'ro')\n",
    "plt.xlabel('t (ms)')\n",
    "plt.ylabel('r (m)')\n",
    "plt.figure()\n",
    "plt.plot(t_data**0.4, r_data, 'ro')\n",
    "plt.plot(t**0.4, x*t**0.4)\n",
    "plt.xlabel('$t^{2/5}$')\n",
    "plt.ylabel('$r$')"
   ]
  }
 ],
 "metadata": {
  "kernelspec": {
   "display_name": "Python 2",
   "language": "python",
   "name": "python2"
  },
  "language_info": {
   "codemirror_mode": {
    "name": "ipython",
    "version": 2
   },
   "file_extension": ".py",
   "mimetype": "text/x-python",
   "name": "python",
   "nbconvert_exporter": "python",
   "pygments_lexer": "ipython2",
   "version": "2.7.10"
  }
 },
 "nbformat": 4,
 "nbformat_minor": 0
}
