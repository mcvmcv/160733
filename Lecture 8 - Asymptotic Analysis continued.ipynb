{
 "cells": [
  {
   "cell_type": "markdown",
   "metadata": {},
   "source": [
    "## Usage with differential equations\n",
    "When we are studying the approximate solution of differential equations, we don't usually have an exact solution to compare with. So we have to make the best of what we do have, which is the equation itself. If our differential equation is\n",
    "\\begin{equation}\n",
    "    F(t, y, y', y'', \\varepsilon) = 0, \\quad t \\in I.\n",
    "\\end{equation}\n",
    "Then we say an approximation $y_a(t, \\varepsilon)$ satisfies the differential equation uniformly for $t \\in I$ as $\\varepsilon \\to 0$ if\n",
    "\\begin{equation}\n",
    "    r(t, \\varepsilon) \\equiv F(t, y_a(t, \\varepsilon), \\dot{y}_a(t, \\varepsilon), \\ddot{y}_a(t, \\varepsilon), \\varepsilon) \\to 0\n",
    "\\end{equation}\n",
    "uniformly on $I$ as $\\varepsilon \\to 0$. This quantity is called the *residual*, and is a measure of how well the approximation satisfies the equation.\n",
    "\n",
    "### Example 3.6\n",
    "\\begin{align}\n",
    "    \\ddot{y} + \\dot{y}^2 + \\varepsilon y &= 0, & t &> 0, & 0 < \\varepsilon \\ll 1,\\\\\n",
    "    y(0) &= 0, & \\dot{y}(0) &= 1.\n",
    "\\end{align}\n",
    "Let's just look at the leading order equation:\n",
    "\\begin{align}\n",
    "    \\ddot{y}_0 + \\dot{y}_0^2 &=0, & t &> 0,\n",
    "    y_0(0) &= 0, & \\dot{y}_0(0) = 1\n",
    "\\end{align}\n",
    "The solution to this is $y_0(t) = \\ln(t + 1)$ (substitute $w = 1 / \\dot{y}$), and hence\n",
    "\\begin{equation}\n",
    "    r(t, \\varepsilon) \\equiv \\ddot{y}_0 + \\dot{y}_0^2 + \\varepsilon y_0 = \\varepsilon \\ln (t + 1)\n",
    "\\end{equation}\n",
    "So $r(t, \\varepsilon) = O(\\varepsilon)$ as $\\varepsilon \\to 0$, but not uniformly on $[0, \\infty)$. If our interval was finite, however, $[0, T]$, we have $|\\varepsilon \\ln(t + 1)| \\le \\varepsilon \\ln(T + 1)$, and so $r(t, \\varepsilon) = O(\\varepsilon)$ as $\\varepsilon \\to 0$ uniformly on $[0, T]$.\n",
    "\n",
    "# Singular perturbation - algebraic equation\n",
    "TODO: fill in details\n",
    "\n",
    "## Example\n",
    "\\begin{equation}\n",
    "    \\varepsilon x^2 + 2x + 1 = 0\n",
    "\\end{equation}\n",
    "### Regular perturbation\n",
    "Only finds one root\n",
    "\n",
    "### Dominant balancing\n",
    "RP assumes that first term is small, and that the other two terms are approximately balanced. It could be that our other solution is large, which would break our assumption\n",
    "* In the dominant balancing method, we investigate other pairs of terms being in balance. \n",
    "* For each pair we look at what size the remaining term would have to be, assuming the pair is balanced. If the remaining term is small compared to the terms in the pair, we can rescale and find a solution by RP in the new scheme\n",
    "\n"
   ]
  }
 ],
 "metadata": {
  "kernelspec": {
   "display_name": "Python 2",
   "language": "python",
   "name": "python2"
  },
  "language_info": {
   "codemirror_mode": {
    "name": "ipython",
    "version": 2
   },
   "file_extension": ".py",
   "mimetype": "text/x-python",
   "name": "python",
   "nbconvert_exporter": "python",
   "pygments_lexer": "ipython2",
   "version": "2.7.10"
  }
 },
 "nbformat": 4,
 "nbformat_minor": 0
}
