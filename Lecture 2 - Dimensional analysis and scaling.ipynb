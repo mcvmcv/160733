{
 "cells": [
  {
   "cell_type": "code",
   "execution_count": 1,
   "metadata": {
    "collapsed": true
   },
   "outputs": [],
   "source": [
    "from IPython.display import Image"
   ]
  },
  {
   "cell_type": "markdown",
   "metadata": {},
   "source": [
    "## Example: Heat transfer\n",
    "\n",
    "You may have in a previous course solved the heat equation. Let's see what headway we can make on this problem using dimensional analysis\n",
    "\n",
    "At time $t = 0$, heat energy $e$ concentrated at a point in space diffuses outward into a region with temperature 0. Let $r$ be the radial distance from the source, and let $t$ be time. We want to find the temperature $u$ as a function of $r$ and $t$. Like our previous example, we first need to figure out which quantities we expect to appear in our formula\n",
    "* $t$, $r$, $e$\n",
    "* heat capacity $c$ (energy per degree per unit volume)\n",
    "* thermal diffusivity $k$ (length-squared per time)\n",
    "So we hypothesise a physical law of the form $f(t, r, u, e, k, c) = 0$.\n",
    "\n",
    "As in our previous example, the next step is to find a minimal set of dimensionless quantities. So, let's do this. We don't always have to go down to the fundamental quantities, we can instead use secondary ones if we want to, for convenience. We will use $[T], [L], [\\Theta], [E]$:\n",
    "\n",
    "\\begin{align}\n",
    "    [t] &= [T], & [r] &= [L], & [u] &= [\\Theta], \\\\\n",
    "    [e] &= [E], & [k] &= [L]^2[T]^{-1}, & [c] &= [E][\\Theta]^{-1}[L]^{-3}\n",
    "\\end{align}\n",
    "\n",
    "So we look at $\\pi = t^{x_1} r^{x_2} u^{x_3} e^{x_4} k^{x_5} c^{x_6}$, and find the dimension matrix $A$ to be (with rows corresponding to $[T], [L], [\\Theta], [E]$\n",
    "\n",
    "\\begin{equation*}\n",
    "    \\begin{bmatrix}\n",
    "        1 & 0 & 0 & 0 & -1 &  0 \\\\\n",
    "        0 & 1 & 0 & 0 &  2 & -3 \\\\\n",
    "        0 & 0 & 1 & 0 &  0 & -1 \\\\\n",
    "        0 & 0 & 0 & 1 &  0 &  1\n",
    "    \\end{bmatrix}\n",
    "\\end{equation*}\n",
    "which is conveniently in RREF, thanks to our choice of dimensions. If we'd had mass instead of energy it would have been messier, but still worked. So following the method above, we have two dimensionless quantities\n",
    "\\begin{align}\n",
    "    \\pi_1^* &= \\frac{tk}{r^2} & \\pi_2^* &= \\frac{ucr^3}{e}\n",
    "\\end{align}\n",
    "At this point it's sometimes worthwhile manipulating these a little to get ones you like better. I'm going to take the reciprocal of $\\pi_1$ and square root it.\n",
    "\\begin{equation}\n",
    "    \\pi_1 = \\frac{r}{\\sqrt{kt}}\n",
    "\\end{equation}\n",
    "I'd also like to lose the dependence on $r$ from $\\pi_2^*$, so I'll form a new constant by forming $\\displaystyle \\pi_2 =  \\frac{\\pi_2^*}{\\pi_1^3} = \\frac{uc}{e} (kt)^{\\frac{3}{2}}$. Our posited physical law should then by the Pi Theorem be equivalent to a physical law of the form\n",
    "\\begin{equation}\n",
    "    F(\\pi_1, \\pi_2) = 0\n",
    "\\end{equation}\n",
    "We can solve this for $\\pi_2$ to give\n",
    "\\begin{equation}\n",
    "    \\pi_2 = g(\\pi_1)\n",
    "\\end{equation}\n",
    "for some function $g$. Substituting everything in\n",
    "\\begin{equation}\n",
    "    u = \\frac{e}{c}(kt)^{-\\frac{3}{2}} g\\left(\\frac{r}{\\sqrt{kt}}\\right)\n",
    "\\end{equation}\n",
    "This is a fairly impressively specific form that we've derived just from intuition about the quantities involved. If you solve the heat equation IVP, this is the kind of solution that you see. So for example, near the origin, temperature falls off like $t^{-3/2}$.\n",
    "    \n",
    "        "
   ]
  },
  {
   "cell_type": "markdown",
   "metadata": {},
   "source": [
    "# Scaling\n",
    "Another procedure that is important for understanding the behaviour of\n",
    "mathematical models, and simplifying them, is that of scaling. It is\n",
    "essential when attempting to understand which terms in an equation (e.g. a\n",
    "differential equation) are negligible compared with others. Scaling also\n",
    "tends to reduce the number of parameters in a problem, leading to\n",
    "simplification.\n",
    "\n",
    "Consider the problem of the propagation of an electrical signal along the\n",
    "walls of an artery. On the one hand, the signal is transmitted from cell to\n",
    "cell, by pumping ions in and out of cells, a process that occurs on the\n",
    "micrometer scale. But on the other, the propagation is slow and observable\n",
    "on the scale of centimetres. This problem has multiple scales, and we want\n",
    "our spatial variable to capture the phenomenon we are interested in. We\n",
    "tend to want our variables to be of \\emph{order unity}, this means that\n",
    "they are not really small or large, so we choose a \\emph{characteristic\n",
    "scale} and construct a new dimensionless variable. For example, to study\n",
    "the spatial dynamics within a handful of cells, we might choose a\n",
    "characteristic scale $x_c$ of a few hundred microns, and rescale $x$ (in m)\n",
    "to a new dimensionless variable $\\bar{x}$\n",
    "\\begin{equation}\n",
    "  \\bar{x} = \\frac{x}{x_c}\n",
    "\\end{equation}\n",
    "We do this for all of the variables (e.g. $t$, etc.). This process is\n",
    "called *non-dimensionalisation*. This is easiest to understand with\n",
    "reference to an example:"
   ]
  },
  {
   "cell_type": "markdown",
   "metadata": {},
   "source": [
    "## Population growth\n",
    "Let $p = p(t)$ be the population of some animal species in a fixed region over time. The simplest model of population growth comes from the assumption that each individual has a fixed probability of reproducing in any given time step. We assume that our $p$ is well approximated by a continuous variable, and our assumption leads to a fixed growth rate $r > 0$ and corresponding governing differential equation\n",
    "\\begin{equation}\n",
    "  \\frac{dp}{dt} = rp\n",
    "\\end{equation}\n",
    "This equation (the *Malthus model*) has the solution $p(t) = p_0e^{rt}$, and is clearly unrealistic, as eventually constraints on habitat and resources will cause the growth to slow. The simplest modification to the model assumes that interractions with other individuals is a good proxy for competition for resources, and that the number of interactions is proportional to $p^2$ (under some assumptions). So we subtract a term proportional to $p^2$:\n",
    "\\begin{equation}\n",
    "  \\frac{dp}{dt} = rp\\left(1 - \\frac{p}{K}\\right), \\quad p(0) = p_0\n",
    "\\end{equation}\n",
    "$K$ is the \\emph{carrying capacity}, $\\frac{dp}{dt} = 0$ when $p = k$, and exceeding $K$ will cause a negative growth rate.\n",
    "\n",
    "The right hand side function is displayed below:"
   ]
  },
  {
   "cell_type": "code",
   "execution_count": 2,
   "metadata": {
    "collapsed": false
   },
   "outputs": [
    {
     "data": {
      "image/png": "[encoded data removed]",
      "text/plain": [
       "<IPython.core.display.Image object>"
      ]
     },
     "execution_count": 2,
     "metadata": {},
     "output_type": "execute_result"
    }
   ],
   "source": [
    "Image(filename='logistic.png') "
   ]
  },
  {
   "cell_type": "markdown",
   "metadata": {},
   "source": [
    "So, how do we choose a characteristic scale for time and population? Well, we form these from the constants in the problem, $r$, $K$, and $p_0$. Only $r$ contains the dimension of time, so we rescale time to form the dimensionless time $\\tau$:\n",
    "\\begin{equation*}\n",
    "  \\tau = rt.\n",
    "\\end{equation*}\n",
    "Our other constants in the problem, $p_0$ and $K$ have dimensions of population number, so either can be chosen to rescale the population. We'll choose $K$ and define our new dimensionless population $P$ as\n",
    "\\begin{equation*}\n",
    "  P = \\frac{p}{K}\n",
    "\\end{equation*}\n",
    "Substituting in, we get\n",
    "\\begin{align*}\n",
    "  (Kr)\\frac{dP}{d\\tau} &= rKP(1 - P) \\\\\n",
    "  \\frac{dP}{d\\tau} &= P(1 - P), \\quad P(0) = \\alpha\n",
    "\\end{align*}\n",
    "where $\\alpha = \\frac{p_0}{K}$.  Note how our rescaled problem has only one parameter $\\alpha$, all of the other parameters have disappeared from the problem, if we solve this problem for $P$ and $\\tau$, we can get our original solution by reversing the scaling. This problem can be solved (separation of variables) to give \n",
    "\\begin{equation*}\n",
    "  P(\\tau) = \\frac{\\alpha}{\\alpha + (1 - \\alpha)e^{-\\tau}}\n",
    "\\end{equation*}\n",
    "and $\\lim_{\\tau \\to \\infty} P(\\tau) = 1$, *i.e.* $p \\to K$ as $t \\to \\infty$."
   ]
  }
 ],
 "metadata": {
  "kernelspec": {
   "display_name": "Python 2",
   "language": "python",
   "name": "python2"
  },
  "language_info": {
   "codemirror_mode": {
    "name": "ipython",
    "version": 2
   },
   "file_extension": ".py",
   "mimetype": "text/x-python",
   "name": "python",
   "nbconvert_exporter": "python",
   "pygments_lexer": "ipython2",
   "version": "2.7.10"
  }
 },
 "nbformat": 4,
 "nbformat_minor": 0
}
